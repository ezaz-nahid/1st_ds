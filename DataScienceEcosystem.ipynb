{
 "cells": [
  {
   "cell_type": "markdown",
   "id": "073e9dbd-1235-4193-b89f-fde63a3bee4c",
   "metadata": {},
   "source": [
    "# Data Science Tools and Ecosystem"
   ]
  },
  {
   "cell_type": "markdown",
   "id": "d2479f09-c742-42a3-b8ec-89a775fba9ee",
   "metadata": {},
   "source": [
    "In this notebook, Data Science Tools and Ecosystem are summarized."
   ]
  },
  {
   "cell_type": "markdown",
   "id": "f202f130-6da4-4e3b-a2da-700be1e4aabe",
   "metadata": {},
   "source": [
    "**Objectives:**\n",
    "* Python\n",
    "* R\n",
    "* Julia"
   ]
  },
  {
   "cell_type": "markdown",
   "id": "7e4dbeeb-3389-4256-9445-f2ab0ef7ee6c",
   "metadata": {},
   "source": [
    "Some of the popular languages that Data Scientists use are:\n",
    "\n",
    "1. Python\n",
    "2. Julia\n",
    "3. R"
   ]
  },
  {
   "cell_type": "markdown",
   "id": "da3aa190-3537-4342-9e1e-2fcbae299049",
   "metadata": {},
   "source": [
    "Some of the commonly used libraries used by Data Scientists include:\n",
    "\n",
    "1. Pandas\n",
    "2. NumPy\n",
    "3. Matplotlib\n",
    "4. Seaborn\n",
    "5. SciKit-Learn"
   ]
  },
  {
   "cell_type": "markdown",
   "id": "1d7549de-8995-4a30-be00-06d75c2a41f4",
   "metadata": {},
   "source": [
    "| Data Science Tools |\n",
    "----------------------\n",
    "| Jupyterlab          |\n",
    "| Apache Zeppelin     |\n",
    "| RStudio             |"
   ]
  },
  {
   "cell_type": "markdown",
   "id": "abe14c36-9b8c-4fbc-8fec-20bceab3c9d7",
   "metadata": {},
   "source": [
    "### Below are a few examples of evaluating arithmetic expressions in Python"
   ]
  },
  {
   "cell_type": "code",
   "execution_count": 28,
   "id": "6b8f7e2d-88d6-41c9-a10e-d0e496a6d925",
   "metadata": {},
   "outputs": [],
   "source": [
    "#  This a simple arithmetic expression to mutiply then add integers"
   ]
  },
  {
   "cell_type": "code",
   "execution_count": 30,
   "id": "6fb0cb67-bdb6-4b0d-8e32-220342174af5",
   "metadata": {},
   "outputs": [
    {
     "data": {
      "text/plain": [
       "17"
      ]
     },
     "execution_count": 30,
     "metadata": {},
     "output_type": "execute_result"
    }
   ],
   "source": [
    "(3*4)+5"
   ]
  },
  {
   "cell_type": "code",
   "execution_count": 32,
   "id": "c5f5c6fd-4662-48d1-a4c3-03e2e29f1e5c",
   "metadata": {},
   "outputs": [],
   "source": [
    "# This will convert 200 minutes to hours by diving by 60"
   ]
  },
  {
   "cell_type": "code",
   "execution_count": 34,
   "id": "e88c741b-aed9-48c8-a1b6-203e2d99821a",
   "metadata": {},
   "outputs": [
    {
     "name": "stdout",
     "output_type": "stream",
     "text": [
      "3.3333333333333335\n"
     ]
    }
   ],
   "source": [
    "min = 200\n",
    "hr = 200 / 60\n",
    "print(hr)"
   ]
  },
  {
   "cell_type": "markdown",
   "id": "e497c581-1de3-4961-8316-de58deb3c5e4",
   "metadata": {},
   "source": [
    "## Author\n",
    "Ezaz Nahid Tapu"
   ]
  }
 ],
 "metadata": {
  "kernelspec": {
   "display_name": "Python 3 (ipykernel)",
   "language": "python",
   "name": "python3"
  },
  "language_info": {
   "codemirror_mode": {
    "name": "ipython",
    "version": 3
   },
   "file_extension": ".py",
   "mimetype": "text/x-python",
   "name": "python",
   "nbconvert_exporter": "python",
   "pygments_lexer": "ipython3",
   "version": "3.12.4"
  }
 },
 "nbformat": 4,
 "nbformat_minor": 5
}
